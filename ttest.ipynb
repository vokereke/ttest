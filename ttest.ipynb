{
 "cells": [
  {
   "cell_type": "markdown",
   "id": "7564469b",
   "metadata": {},
   "source": [
    "Aim: Test to confirm if there is a difference between number of travelers in AA and AS airlines in 2021"
   ]
  },
  {
   "cell_type": "markdown",
   "id": "65ad4d91",
   "metadata": {},
   "source": [
    "$Ho$: Number of Travelers is the same for AA and AS airlines in 2021<br />\n",
    "$Ha$: Number of Travelers is not the same for AA and AS airlines in 2021 "
   ]
  },
  {
   "cell_type": "code",
   "execution_count": 38,
   "id": "250fa179",
   "metadata": {},
   "outputs": [],
   "source": [
    "#importing libraries\n",
    "import pandas as pd\n",
    "import numpy as np"
   ]
  },
  {
   "cell_type": "code",
   "execution_count": 39,
   "id": "252c6e86",
   "metadata": {},
   "outputs": [
    {
     "data": {
      "text/plain": [
       "(996, 4)"
      ]
     },
     "execution_count": 39,
     "metadata": {},
     "output_type": "execute_result"
    }
   ],
   "source": [
    "#importing data\n",
    "total_trav = pd.read_csv(\"data/df_all.csv\")\n",
    "#obtain shape\n",
    "total_trav.shape"
   ]
  },
  {
   "cell_type": "code",
   "execution_count": 40,
   "id": "e22aeb2f",
   "metadata": {},
   "outputs": [
    {
     "data": {
      "text/html": [
       "<div>\n",
       "<style scoped>\n",
       "    .dataframe tbody tr th:only-of-type {\n",
       "        vertical-align: middle;\n",
       "    }\n",
       "\n",
       "    .dataframe tbody tr th {\n",
       "        vertical-align: top;\n",
       "    }\n",
       "\n",
       "    .dataframe thead th {\n",
       "        text-align: right;\n",
       "    }\n",
       "</style>\n",
       "<table border=\"1\" class=\"dataframe\">\n",
       "  <thead>\n",
       "    <tr style=\"text-align: right;\">\n",
       "      <th></th>\n",
       "      <th>Travelers</th>\n",
       "      <th>Day</th>\n",
       "      <th>Month</th>\n",
       "      <th>Year</th>\n",
       "    </tr>\n",
       "  </thead>\n",
       "  <tbody>\n",
       "    <tr>\n",
       "      <th>0</th>\n",
       "      <td>2882915.0</td>\n",
       "      <td>28</td>\n",
       "      <td>Nov</td>\n",
       "      <td>2019</td>\n",
       "    </tr>\n",
       "    <tr>\n",
       "      <th>1</th>\n",
       "      <td>2648268.0</td>\n",
       "      <td>27</td>\n",
       "      <td>Nov</td>\n",
       "      <td>2019</td>\n",
       "    </tr>\n",
       "    <tr>\n",
       "      <th>2</th>\n",
       "      <td>1968137.0</td>\n",
       "      <td>26</td>\n",
       "      <td>Nov</td>\n",
       "      <td>2019</td>\n",
       "    </tr>\n",
       "  </tbody>\n",
       "</table>\n",
       "</div>"
      ],
      "text/plain": [
       "   Travelers  Day Month  Year\n",
       "0  2882915.0   28   Nov  2019\n",
       "1  2648268.0   27   Nov  2019\n",
       "2  1968137.0   26   Nov  2019"
      ]
     },
     "execution_count": 40,
     "metadata": {},
     "output_type": "execute_result"
    }
   ],
   "source": [
    "total_trav.head(3)"
   ]
  },
  {
   "cell_type": "code",
   "execution_count": 41,
   "id": "0a8639c2",
   "metadata": {},
   "outputs": [
    {
     "data": {
      "text/html": [
       "<div>\n",
       "<style scoped>\n",
       "    .dataframe tbody tr th:only-of-type {\n",
       "        vertical-align: middle;\n",
       "    }\n",
       "\n",
       "    .dataframe tbody tr th {\n",
       "        vertical-align: top;\n",
       "    }\n",
       "\n",
       "    .dataframe thead th {\n",
       "        text-align: right;\n",
       "    }\n",
       "</style>\n",
       "<table border=\"1\" class=\"dataframe\">\n",
       "  <thead>\n",
       "    <tr style=\"text-align: right;\">\n",
       "      <th></th>\n",
       "      <th>Travelers</th>\n",
       "      <th>Day</th>\n",
       "      <th>Month</th>\n",
       "      <th>Year</th>\n",
       "      <th>date</th>\n",
       "    </tr>\n",
       "  </thead>\n",
       "  <tbody>\n",
       "    <tr>\n",
       "      <th>991</th>\n",
       "      <td>766594.0</td>\n",
       "      <td>5</td>\n",
       "      <td>1</td>\n",
       "      <td>2021</td>\n",
       "      <td>5-1-2021</td>\n",
       "    </tr>\n",
       "    <tr>\n",
       "      <th>992</th>\n",
       "      <td>1080346.0</td>\n",
       "      <td>4</td>\n",
       "      <td>1</td>\n",
       "      <td>2021</td>\n",
       "      <td>4-1-2021</td>\n",
       "    </tr>\n",
       "    <tr>\n",
       "      <th>993</th>\n",
       "      <td>1327289.0</td>\n",
       "      <td>3</td>\n",
       "      <td>1</td>\n",
       "      <td>2021</td>\n",
       "      <td>3-1-2021</td>\n",
       "    </tr>\n",
       "    <tr>\n",
       "      <th>994</th>\n",
       "      <td>1192881.0</td>\n",
       "      <td>2</td>\n",
       "      <td>1</td>\n",
       "      <td>2021</td>\n",
       "      <td>2-1-2021</td>\n",
       "    </tr>\n",
       "    <tr>\n",
       "      <th>995</th>\n",
       "      <td>805990.0</td>\n",
       "      <td>1</td>\n",
       "      <td>1</td>\n",
       "      <td>2021</td>\n",
       "      <td>1-1-2021</td>\n",
       "    </tr>\n",
       "  </tbody>\n",
       "</table>\n",
       "</div>"
      ],
      "text/plain": [
       "     Travelers  Day  Month  Year      date\n",
       "991   766594.0    5      1  2021  5-1-2021\n",
       "992  1080346.0    4      1  2021  4-1-2021\n",
       "993  1327289.0    3      1  2021  3-1-2021\n",
       "994  1192881.0    2      1  2021  2-1-2021\n",
       "995   805990.0    1      1  2021  1-1-2021"
      ]
     },
     "execution_count": 41,
     "metadata": {},
     "output_type": "execute_result"
    }
   ],
   "source": [
    "#changing Month values to numbers\n",
    "total_trav = total_trav.replace({'Month': {\"Jan\": 1,'Feb':2,'Mar':3,'Apr':4,'May':5,'Jun':6,'Jul':7,'Aug':8,'Sep':9,\n",
    "                                             'Oct':10,'Nov':11,'Dec':12}})\n",
    "#converting Day, Month, and Year columns to string and combining the three columns \n",
    "total_trav['date'] = total_trav.Day.astype(str) + '-' + total_trav.Month.astype(str) + '-' + total_trav.Year.astype(str)\n",
    "total_trav.tail()\n"
   ]
  },
  {
   "cell_type": "code",
   "execution_count": 42,
   "id": "5f8ea9e4",
   "metadata": {},
   "outputs": [
    {
     "data": {
      "text/plain": [
       "dtype('<M8[ns]')"
      ]
     },
     "execution_count": 42,
     "metadata": {},
     "output_type": "execute_result"
    }
   ],
   "source": [
    "#converting date to a date variable\n",
    "total_trav['date'] = pd.to_datetime(total_trav['date'])\n",
    "#to count number of events create a new column and assign 1 to each row\n",
    "# post_long['event_num'] = 1\n",
    "total_trav.date.dtype"
   ]
  },
  {
   "cell_type": "code",
   "execution_count": 43,
   "id": "083ce997",
   "metadata": {},
   "outputs": [],
   "source": [
    "#list of airports\n",
    "#for consistency let's set a seed\n",
    "np.random.seed(123)\n",
    "airlines = ['AS','G4','AA','XP','MX','DL','2D','F9','HA','B6','Test']\n",
    "total_trav['airlines'] = np.random.choice(list(airlines), len(total_trav))"
   ]
  },
  {
   "cell_type": "code",
   "execution_count": 44,
   "id": "7fb079ab",
   "metadata": {
    "scrolled": true
   },
   "outputs": [
    {
     "data": {
      "text/html": [
       "<div>\n",
       "<style scoped>\n",
       "    .dataframe tbody tr th:only-of-type {\n",
       "        vertical-align: middle;\n",
       "    }\n",
       "\n",
       "    .dataframe tbody tr th {\n",
       "        vertical-align: top;\n",
       "    }\n",
       "\n",
       "    .dataframe thead th {\n",
       "        text-align: right;\n",
       "    }\n",
       "</style>\n",
       "<table border=\"1\" class=\"dataframe\">\n",
       "  <thead>\n",
       "    <tr style=\"text-align: right;\">\n",
       "      <th></th>\n",
       "      <th>Travelers</th>\n",
       "      <th>Day</th>\n",
       "      <th>Month</th>\n",
       "      <th>Year</th>\n",
       "      <th>date</th>\n",
       "      <th>airlines</th>\n",
       "    </tr>\n",
       "  </thead>\n",
       "  <tbody>\n",
       "    <tr>\n",
       "      <th>0</th>\n",
       "      <td>2882915.0</td>\n",
       "      <td>28</td>\n",
       "      <td>11</td>\n",
       "      <td>2019</td>\n",
       "      <td>2019-11-28</td>\n",
       "      <td>AA</td>\n",
       "    </tr>\n",
       "    <tr>\n",
       "      <th>1</th>\n",
       "      <td>2648268.0</td>\n",
       "      <td>27</td>\n",
       "      <td>11</td>\n",
       "      <td>2019</td>\n",
       "      <td>2019-11-27</td>\n",
       "      <td>AA</td>\n",
       "    </tr>\n",
       "    <tr>\n",
       "      <th>2</th>\n",
       "      <td>1968137.0</td>\n",
       "      <td>26</td>\n",
       "      <td>11</td>\n",
       "      <td>2019</td>\n",
       "      <td>2019-11-26</td>\n",
       "      <td>2D</td>\n",
       "    </tr>\n",
       "    <tr>\n",
       "      <th>3</th>\n",
       "      <td>1591158.0</td>\n",
       "      <td>25</td>\n",
       "      <td>11</td>\n",
       "      <td>2019</td>\n",
       "      <td>2019-11-25</td>\n",
       "      <td>G4</td>\n",
       "    </tr>\n",
       "    <tr>\n",
       "      <th>4</th>\n",
       "      <td>2624250.0</td>\n",
       "      <td>24</td>\n",
       "      <td>11</td>\n",
       "      <td>2019</td>\n",
       "      <td>2019-11-24</td>\n",
       "      <td>XP</td>\n",
       "    </tr>\n",
       "  </tbody>\n",
       "</table>\n",
       "</div>"
      ],
      "text/plain": [
       "   Travelers  Day  Month  Year       date airlines\n",
       "0  2882915.0   28     11  2019 2019-11-28       AA\n",
       "1  2648268.0   27     11  2019 2019-11-27       AA\n",
       "2  1968137.0   26     11  2019 2019-11-26       2D\n",
       "3  1591158.0   25     11  2019 2019-11-25       G4\n",
       "4  2624250.0   24     11  2019 2019-11-24       XP"
      ]
     },
     "execution_count": 44,
     "metadata": {},
     "output_type": "execute_result"
    }
   ],
   "source": [
    "total_trav.head()"
   ]
  },
  {
   "cell_type": "code",
   "execution_count": 45,
   "id": "d1d2130f",
   "metadata": {},
   "outputs": [],
   "source": [
    "#subsetting data for AA airline travlers 2021\n",
    "filter1 = (total_trav['Year']==2021) & (total_trav['airlines']=='AA')\n",
    "AA_travelers = total_trav[filter1]"
   ]
  },
  {
   "cell_type": "code",
   "execution_count": 46,
   "id": "6eb6328b",
   "metadata": {},
   "outputs": [],
   "source": [
    "#subsetting data for AS airline travlers 2021\n",
    "filter2 = (total_trav['Year']==2021) & (total_trav['airlines']=='AS')\n",
    "AS_travelers = total_trav[filter2]"
   ]
  },
  {
   "cell_type": "code",
   "execution_count": 47,
   "id": "41d640d3",
   "metadata": {},
   "outputs": [
    {
     "data": {
      "text/plain": [
       "array([1382230., 2152721., 1527465., 1446353., 1448369., 1820152.,\n",
       "       1942337., 1826310., 1820355., 1925641., 1934918., 1979981.,\n",
       "       2093066., 2196411., 1984658., 1900170., 1863697., 1707805.,\n",
       "       1429657., 1626962., 1278113., 1543136., 1107534., 1096348.,\n",
       "        714725.,  735009.,  628989.,  560190.,  805990.])"
      ]
     },
     "execution_count": 47,
     "metadata": {},
     "output_type": "execute_result"
    }
   ],
   "source": [
    "#convert AA data to array\n",
    "AA_trav_array = np.array(AA_travelers['Travelers'])\n",
    "AA_trav_array"
   ]
  },
  {
   "cell_type": "code",
   "execution_count": 48,
   "id": "651f17e3",
   "metadata": {},
   "outputs": [
    {
     "data": {
      "text/plain": [
       "array([2207949., 2213716., 2001439., 1940302., 2070878., 1455913.,\n",
       "       1439804., 1465197., 1629475., 1900658., 1685462., 2045301.,\n",
       "       2022858., 2168264., 2141429., 1889911., 2066964., 1560561.,\n",
       "       1815931., 1618169., 1315493., 1703267., 1463672., 1468218.,\n",
       "       1561495., 1549181., 1195306., 1535156., 1360290., 1413141.,\n",
       "        825745., 1049692.,  914823.,  773422.,  690438.,  772471.])"
      ]
     },
     "execution_count": 48,
     "metadata": {},
     "output_type": "execute_result"
    }
   ],
   "source": [
    "#convert AS data to array\n",
    "AS_trav_array = np.array(AS_travelers['Travelers'])\n",
    "AS_trav_array"
   ]
  },
  {
   "cell_type": "markdown",
   "id": "96d636c6",
   "metadata": {},
   "source": [
    "Since the data is not related, this test is considered an independent sample test. So we will be using the unpaired \n",
    "ttest for this analysis"
   ]
  },
  {
   "cell_type": "code",
   "execution_count": 49,
   "id": "4146c655",
   "metadata": {},
   "outputs": [],
   "source": [
    "#loading the required library\n",
    "from scipy.stats import ttest_ind"
   ]
  },
  {
   "cell_type": "markdown",
   "id": "2c3975c2",
   "metadata": {},
   "source": [
    "For independent sample ttest, we first check to see if the variance for the two groups are equal or not. Note that if you divide the standard deviation of one group by the standard deviation of the other group and you obtain a value that is greater than 2, variance for the two groups is considered to be unequal"
   ]
  },
  {
   "cell_type": "code",
   "execution_count": 50,
   "id": "b7889ff6",
   "metadata": {},
   "outputs": [
    {
     "name": "stdout",
     "output_type": "stream",
     "text": [
      "True\n"
     ]
    }
   ],
   "source": [
    "#defaulting equal variance status to true\n",
    "Equal_var_status = True\n",
    "\n",
    "if AS_trav_array.std() > AA_trav_array.std():\n",
    "    if (AS_trav_array.std()/AA_trav_array.std()) > 2:\n",
    "        Equal_var_status = False\n",
    "else:\n",
    "    if (AA_trav_array.std()/AS_trav_array.std()) > 2:\n",
    "        Equal_var_status = False\n",
    "print(Equal_var_status)"
   ]
  },
  {
   "cell_type": "markdown",
   "id": "59887d1a",
   "metadata": {},
   "source": [
    "From the result above, we see that variance is the same for the two groups. Next, we perform ttest. Since we are testing to see if there is a difference, this is a two-tailed test"
   ]
  },
  {
   "cell_type": "code",
   "execution_count": 51,
   "id": "ef5fbdd7",
   "metadata": {},
   "outputs": [],
   "source": [
    "results = ttest_ind(AS_trav_array,AA_trav_array,equal_var=Equal_var_status,alternative='two-sided')"
   ]
  },
  {
   "cell_type": "code",
   "execution_count": 52,
   "id": "264e952e",
   "metadata": {
    "scrolled": false
   },
   "outputs": [
    {
     "data": {
      "text/plain": [
       "0.6794060124908805"
      ]
     },
     "execution_count": 52,
     "metadata": {},
     "output_type": "execute_result"
    }
   ],
   "source": [
    "results.pvalue"
   ]
  },
  {
   "cell_type": "markdown",
   "id": "1c19bfca",
   "metadata": {},
   "source": [
    "The pvalue for the test is 0.679, which is greater than 0.05, so we fail to reject the null hypothesis and conclude that the number of travelers for the two airlines in 2021 is not significantly different."
   ]
  }
 ],
 "metadata": {
  "kernelspec": {
   "display_name": "Python 3",
   "language": "python",
   "name": "python3"
  },
  "language_info": {
   "codemirror_mode": {
    "name": "ipython",
    "version": 3
   },
   "file_extension": ".py",
   "mimetype": "text/x-python",
   "name": "python",
   "nbconvert_exporter": "python",
   "pygments_lexer": "ipython3",
   "version": "3.8.8"
  }
 },
 "nbformat": 4,
 "nbformat_minor": 5
}
